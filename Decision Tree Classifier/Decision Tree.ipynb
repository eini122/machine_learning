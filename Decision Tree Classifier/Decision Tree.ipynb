{
 "cells": [
  {
   "cell_type": "code",
   "execution_count": 1,
   "metadata": {},
   "outputs": [],
   "source": [
    "import numpy as np\n",
    "import pandas as pd\n",
    "import matplotlib.pyplot as plt\n",
    "from sklearn.tree import DecisionTreeClassifier\n",
    "from sklearn.neural_network import MLPClassifier\n",
    "from sklearn.model_selection import KFold"
   ]
  },
  {
   "cell_type": "code",
   "execution_count": 2,
   "metadata": {},
   "outputs": [
    {
     "name": "stdout",
     "output_type": "stream",
     "text": [
      "[[1 0 0 ... 0 0 0]\n",
      " [0 0 0 ... 0 0 0]\n",
      " [1 0 0 ... 0 0 0]\n",
      " ...\n",
      " [5 0 0 ... 0 0 0]\n",
      " [5 0 0 ... 0 0 0]\n",
      " [5 0 0 ... 0 0 0]]\n"
     ]
    }
   ],
   "source": [
    "#Part 1 Decision Tree\n",
    "mnist = pd.read_csv(\"mnist.csv\")\n",
    "data = np.array(mnist)\n",
    "print(data)"
   ]
  },
  {
   "cell_type": "code",
   "execution_count": 12,
   "metadata": {},
   "outputs": [
    {
     "name": "stdout",
     "output_type": "stream",
     "text": [
      "1000\n",
      "(1000, 784)\n"
     ]
    }
   ],
   "source": [
    "#get 1000 instances\n",
    "sample=[]\n",
    "train_label = []\n",
    "for i in range (0, 10):\n",
    "    count = 0\n",
    "    for j in range (0,10000):\n",
    "        if data[j][0] == i and count != 100:\n",
    "            sample.append(data[j])\n",
    "            train_label.append(data[j][0])\n",
    "            count+=1\n",
    "#1000 instances from origin data\n",
    "print(len(sample))\n",
    "sample = np.array(sample)\n",
    "sample = sample[0:, 1:]\n",
    "train_label = np.array(train_label)\n",
    "print(sample.shape)"
   ]
  },
  {
   "cell_type": "code",
   "execution_count": 13,
   "metadata": {},
   "outputs": [
    {
     "data": {
      "text/plain": [
       "DecisionTreeClassifier(class_weight=None, criterion='gini', max_depth=None,\n",
       "            max_features=None, max_leaf_nodes=None,\n",
       "            min_impurity_decrease=0.0, min_impurity_split=None,\n",
       "            min_samples_leaf=1, min_samples_split=2,\n",
       "            min_weight_fraction_leaf=0.0, presort=False, random_state=None,\n",
       "            splitter='best')"
      ]
     },
     "execution_count": 13,
     "metadata": {},
     "output_type": "execute_result"
    }
   ],
   "source": [
    "clf = DecisionTreeClassifier()\n",
    "clf.fit(sample, train_label)"
   ]
  },
  {
   "cell_type": "code",
   "execution_count": 14,
   "metadata": {},
   "outputs": [
    {
     "name": "stdout",
     "output_type": "stream",
     "text": [
      "0.7047\n"
     ]
    }
   ],
   "source": [
    "#Part 2 Decision Tree\n",
    "test = data[0:, 1:]\n",
    "actual_label = data[0: ,0]\n",
    "print(clf.score(test, actual_label))"
   ]
  },
  {
   "cell_type": "code",
   "execution_count": 15,
   "metadata": {},
   "outputs": [
    {
     "data": {
      "text/plain": [
       "MLPClassifier(activation='relu', alpha=0.0001, batch_size='auto', beta_1=0.9,\n",
       "       beta_2=0.999, early_stopping=False, epsilon=1e-08,\n",
       "       hidden_layer_sizes=(100,), learning_rate='constant',\n",
       "       learning_rate_init=0.001, max_iter=200, momentum=0.9,\n",
       "       n_iter_no_change=10, nesterovs_momentum=True, power_t=0.5,\n",
       "       random_state=None, shuffle=True, solver='adam', tol=0.0001,\n",
       "       validation_fraction=0.1, verbose=False, warm_start=False)"
      ]
     },
     "execution_count": 15,
     "metadata": {},
     "output_type": "execute_result"
    }
   ],
   "source": [
    "#Part 1 MLP\n",
    "mlp = MLPClassifier()\n",
    "mlp.fit(sample, train_label)"
   ]
  },
  {
   "cell_type": "code",
   "execution_count": 16,
   "metadata": {},
   "outputs": [
    {
     "name": "stdout",
     "output_type": "stream",
     "text": [
      "0.8347\n"
     ]
    }
   ],
   "source": [
    "#Part 2 MLP\n",
    "print(mlp.score(test, actual_label))"
   ]
  },
  {
   "cell_type": "code",
   "execution_count": 42,
   "metadata": {},
   "outputs": [
    {
     "name": "stdout",
     "output_type": "stream",
     "text": [
      "KFold(n_splits=2, random_state=None, shuffle=True)\n",
      "decision tree score is:  0.62\n",
      "MPL score is:  0.767\n"
     ]
    }
   ],
   "source": [
    "#Part 3\n",
    "kf = KFold(n_splits=2, shuffle = True)\n",
    "print(kf)\n",
    "\n",
    "clf_score = 0\n",
    "mpl_score = 0\n",
    "for train_index, test_index in kf.split(sample):\n",
    "    X_train, X_test = sample[train_index], sample[test_index]\n",
    "    y_train, y_test = train_label[train_index], train_label[test_index]\n",
    "    \n",
    "    clf.fit(X_train, y_train)\n",
    "    clf_score +=clf.score(X_test, y_test)\n",
    "\n",
    "    mlp.fit(X_train, y_train)\n",
    "    mpl_score += mlp.score(X_test, y_test)\n",
    "print(\"decision tree score is: \", clf_score/2)\n",
    "print(\"MPL score is: \", mpl_score/2)"
   ]
  },
  {
   "cell_type": "code",
   "execution_count": 44,
   "metadata": {},
   "outputs": [
    {
     "name": "stdout",
     "output_type": "stream",
     "text": [
      "KFold(n_splits=4, random_state=None, shuffle=True)\n",
      "decision tree score is:  0.642\n",
      "MPL score is:  0.772\n"
     ]
    }
   ],
   "source": [
    "kf = KFold(n_splits=4, shuffle = True)\n",
    "print(kf)\n",
    "\n",
    "clf_score = 0\n",
    "mpl_score = 0\n",
    "for train_index, test_index in kf.split(sample):\n",
    "    X_train, X_test = sample[train_index], sample[test_index]\n",
    "    y_train, y_test = train_label[train_index], train_label[test_index]\n",
    "    \n",
    "    clf.fit(X_train, y_train)\n",
    "    clf_score +=clf.score(X_test, y_test)\n",
    "\n",
    "    mlp.fit(X_train, y_train)\n",
    "    mpl_score += mlp.score(X_test, y_test)\n",
    "    \n",
    "print(\"decision tree score is: \", clf_score/4)\n",
    "print(\"MPL score is: \", mpl_score/4)"
   ]
  }
 ],
 "metadata": {
  "kernelspec": {
   "display_name": "Python 3",
   "language": "python",
   "name": "python3"
  },
  "language_info": {
   "codemirror_mode": {
    "name": "ipython",
    "version": 3
   },
   "file_extension": ".py",
   "mimetype": "text/x-python",
   "name": "python",
   "nbconvert_exporter": "python",
   "pygments_lexer": "ipython3",
   "version": "3.7.3"
  }
 },
 "nbformat": 4,
 "nbformat_minor": 2
}
